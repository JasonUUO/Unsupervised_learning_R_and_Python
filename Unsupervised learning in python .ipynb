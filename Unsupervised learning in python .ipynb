{
 "cells": [
  {
   "cell_type": "code",
   "execution_count": 24,
   "metadata": {},
   "outputs": [
    {
     "data": {
      "text/plain": [
       "'C:\\\\Users\\\\smart\\\\Documents\\\\Bioinformatics\\\\Data Science for bioinformatics\\\\Week 11'"
      ]
     },
     "execution_count": 24,
     "metadata": {},
     "output_type": "execute_result"
    }
   ],
   "source": [
    "import os \n",
    "os.chdir(\"C:\\\\Users\\\\smart\\\\Documents\\\\Bioinformatics\\\\Data Science for bioinformatics\\\\Week 11\")\n",
    "os.getcwd()"
   ]
  },
  {
   "cell_type": "markdown",
   "metadata": {},
   "source": [
    "### Loading in the data "
   ]
  },
  {
   "cell_type": "code",
   "execution_count": 25,
   "metadata": {},
   "outputs": [
    {
     "name": "stdout",
     "output_type": "stream",
     "text": [
      "Table 1 \n",
      "   Unnamed: 0  IRX4  OCT4  PAX6\n",
      "0   patient1    11    10     1\n",
      "1   patient2    13    13     3\n",
      "2   patient3     2     4    10\n",
      "3   patient4     1     3     9 \n",
      "\n"
     ]
    }
   ],
   "source": [
    "import pandas as pd \n",
    "Table_1 = pd.read_excel('Table1.xlsx')\n",
    "print(\"Table 1 \\n\", Table_1, \"\\n\")"
   ]
  },
  {
   "cell_type": "code",
   "execution_count": 26,
   "metadata": {},
   "outputs": [],
   "source": [
    "#Removing the unnamed column \n",
    "rmpt = Table_1.iloc[0:4,1:4]"
   ]
  },
  {
   "cell_type": "code",
   "execution_count": 27,
   "metadata": {},
   "outputs": [
    {
     "name": "stdout",
     "output_type": "stream",
     "text": [
      "   IRX4  OCT4  PAX6\n",
      "0    11    10     1\n",
      "1    13    13     3\n",
      "2     2     4    10\n",
      "3     1     3     9\n"
     ]
    }
   ],
   "source": [
    "print(rmpt)"
   ]
  },
  {
   "cell_type": "code",
   "execution_count": 28,
   "metadata": {
    "scrolled": true
   },
   "outputs": [
    {
     "name": "stdout",
     "output_type": "stream",
     "text": [
      "Table 1 data \n",
      " [[11 10  1]\n",
      " [13 13  3]\n",
      " [ 2  4 10]\n",
      " [ 1  3  9]] \n",
      "\n"
     ]
    }
   ],
   "source": [
    "#converting the rmpt data frame into a numpy array\n",
    "import numpy as np\n",
    "T1data = rmpt.to_numpy()\n",
    "print(\"Table 1 data \\n\", T1data, \"\\n\")"
   ]
  },
  {
   "cell_type": "code",
   "execution_count": 29,
   "metadata": {},
   "outputs": [
    {
     "name": "stdout",
     "output_type": "stream",
     "text": [
      "Euclidean distance \n",
      " [array([], dtype=float64), array([5.66666667]), array([66.        , 83.66666667]), array([71.        , 93.33333333,  1.        ])] \n",
      "\n"
     ]
    }
   ],
   "source": [
    "# Calaculating the euclidean distances of the numpy array\n",
    "from Bio.Cluster import distancematrix\n",
    "distancesE = distancematrix(T1data, dist='e')\n",
    "print(\"Euclidean distance \\n\", distancesE, \"\\n\")"
   ]
  },
  {
   "cell_type": "code",
   "execution_count": 30,
   "metadata": {},
   "outputs": [
    {
     "name": "stdout",
     "output_type": "stream",
     "text": [
      "Euclidean distance dataframe \n",
      "            0          1    2\n",
      "0        NaN        NaN  NaN\n",
      "1   5.666667        NaN  NaN\n",
      "2  66.000000  83.666667  NaN\n",
      "3  71.000000  93.333333  1.0 \n",
      "\n"
     ]
    }
   ],
   "source": [
    "#Converting the results into a dataframe to make the results readable\n",
    "Edf = pd.DataFrame(distancesE)\n",
    "print(\"Euclidean distance dataframe \\n\", Edf, \"\\n\")"
   ]
  },
  {
   "cell_type": "code",
   "execution_count": 31,
   "metadata": {},
   "outputs": [
    {
     "name": "stdout",
     "output_type": "stream",
     "text": [
      "Manhattan \n",
      " [array([], dtype=float64), array([2.33333333]), array([8., 9.]), array([8.33333333, 9.33333333, 1.        ])] \n",
      "\n",
      "Manhattan distance dataframe \n",
      "           0         1    2\n",
      "0       NaN       NaN  NaN\n",
      "1  2.333333       NaN  NaN\n",
      "2  8.000000  9.000000  NaN\n",
      "3  8.333333  9.333333  1.0 \n",
      "\n"
     ]
    }
   ],
   "source": [
    "# Calaculating the manhatthan distances of the numpy array\n",
    "distancesM = distancematrix(T1data, dist='b')\n",
    "print(\"Manhattan \\n\", distancesM, \"\\n\")\n",
    "#Converting the results into a dataframe to make the results readable\n",
    "Mdf = pd.DataFrame(distancesM)\n",
    "print(\"Manhattan distance dataframe \\n\", Mdf, \"\\n\")"
   ]
  },
  {
   "cell_type": "markdown",
   "metadata": {},
   "source": [
    "## Clustering "
   ]
  },
  {
   "cell_type": "code",
   "execution_count": 32,
   "metadata": {},
   "outputs": [
    {
     "name": "stdout",
     "output_type": "stream",
     "text": [
      "Table 2: \n",
      "\n",
      "            t1        t2        t3        t4        t5\n",
      "g1  -0.209331  0.575628  0.747943  0.661025  0.024903\n",
      "g2  -0.566134  1.102626 -1.326104 -0.697325 -1.195400\n",
      "g3   0.552118  0.815165 -0.793938 -0.304374  0.754580\n",
      "g4   0.800665 -0.996414 -0.824040  1.121050  0.644800\n",
      "g5   0.072447  0.940999 -0.362187  0.112090  1.117452\n",
      "g6   1.928389 -0.184790  0.518182  1.033102 -0.368495\n",
      "g7  -0.818658 -1.061320 -1.627024  1.534679  1.163095\n",
      "g8  -0.136280  0.858841  0.973422  0.589590  1.229153\n",
      "g9   1.912244  0.189364 -0.619768  2.082375  0.472258\n",
      "g10  0.092512 -0.321310  0.269982  0.480788 -1.204305 \n",
      "\n"
     ]
    }
   ],
   "source": [
    "#Loading in the table 2 dataframe created in Rstudio\n",
    "T2 = pd.read_csv('Table2.csv', index_col=0)\n",
    "print(\"Table 2: \\n\\n\", T2, \"\\n\")"
   ]
  },
  {
   "cell_type": "code",
   "execution_count": 33,
   "metadata": {},
   "outputs": [
    {
     "name": "stdout",
     "output_type": "stream",
     "text": [
      "Scaled Table 2: \n",
      " [[-6.36801051e-01  5.05676644e-01  1.24425402e+00 -3.47566334e-04\n",
      "  -2.73314689e-01]\n",
      " [-1.03393745e+00  1.20011620e+00 -1.20813684e+00 -1.71859525e+00\n",
      "  -1.66940050e+00]\n",
      " [ 2.10721990e-01  8.21321659e-01 -5.78894421e-01 -1.22153091e+00\n",
      "   5.61472070e-01]\n",
      " [ 4.87363994e-01 -1.56584565e+00 -6.14487212e-01  5.81561311e-01\n",
      "   4.35877477e-01]\n",
      " [-3.23171451e-01  9.87135950e-01 -6.83839474e-02 -6.94723944e-01\n",
      "   9.76615122e-01]\n",
      " [ 1.74256653e+00 -4.96347216e-01  9.72581204e-01  4.70312360e-01\n",
      "  -7.23381360e-01]\n",
      " [-1.31500707e+00 -1.65137429e+00 -1.56395084e+00  1.10478192e+00\n",
      "   1.02883294e+00]\n",
      " [-5.55493303e-01  8.78873926e-01  1.51086550e+00 -9.07098954e-02\n",
      "   1.10440631e+00]\n",
      " [ 1.72459627e+00 -3.31391061e-03 -3.72952230e-01  1.79759109e+00\n",
      "   2.38481651e-01]\n",
      " [-3.00838449e-01 -6.76243322e-01  6.79104770e-01 -2.28339108e-01\n",
      "  -1.67958903e+00]] \n",
      "\n"
     ]
    }
   ],
   "source": [
    "#Importing sklearn\n",
    "import sklearn\n",
    "from sklearn import linear_model\n",
    "from sklearn.preprocessing import StandardScaler\n",
    "#scaling the data to prepare it for clusting \n",
    "scale = StandardScaler()\n",
    "scaledT2 = scale.fit_transform(T2)\n",
    "print(\"Scaled Table 2: \\n\", scaledT2, \"\\n\")"
   ]
  },
  {
   "cell_type": "code",
   "execution_count": 34,
   "metadata": {},
   "outputs": [
    {
     "name": "stdout",
     "output_type": "stream",
     "text": [
      "Table 2 Euclidean distance: \n",
      " [array([], dtype=float64), array([2.31112305]), array([1.265991  , 1.46249476]), array([1.97028842, 4.0080477 , 1.80865619]), array([0.81953362, 1.97985933, 0.20460537, 1.87884256]), array([1.43266576, 4.20575248, 2.20061151, 1.31888077, 2.35978035]), array([3.18314926, 4.71770481, 3.00851363, 0.95653876, 2.68462851,\n",
      "       4.11792905]), array([0.42464987, 3.61381881, 1.30620569, 2.49604173, 0.5881773 ,\n",
      "       2.22352318, 3.57368495]), array([2.38902873, 5.15177326, 2.44673436, 1.10965636, 2.40471613,\n",
      "       0.94814285, 2.89568177, 2.76826784]), array([0.7717574 , 1.96816146, 2.01914834, 1.64343456, 2.11980081,\n",
      "       1.13928838, 3.22469562, 2.1889273 , 2.6890864 ])] \n",
      "\n"
     ]
    }
   ],
   "source": [
    "#Obtaining the euclidean distances of table 2\n",
    "from Bio.Cluster import distancematrix\n",
    "distancesET2 = distancematrix(scaledT2, dist='e')\n",
    "print(\"Table 2 Euclidean distance: \\n\", distancesET2, \"\\n\")"
   ]
  },
  {
   "cell_type": "code",
   "execution_count": 35,
   "metadata": {},
   "outputs": [
    {
     "name": "stdout",
     "output_type": "stream",
     "text": [
      "Table 2 Euclidean distance dataframe: \n",
      "           0         1         2         3         4         5         6  \\\n",
      "0       NaN       NaN       NaN       NaN       NaN       NaN       NaN   \n",
      "1  2.311123       NaN       NaN       NaN       NaN       NaN       NaN   \n",
      "2  1.265991  1.462495       NaN       NaN       NaN       NaN       NaN   \n",
      "3  1.970288  4.008048  1.808656       NaN       NaN       NaN       NaN   \n",
      "4  0.819534  1.979859  0.204605  1.878843       NaN       NaN       NaN   \n",
      "5  1.432666  4.205752  2.200612  1.318881  2.359780       NaN       NaN   \n",
      "6  3.183149  4.717705  3.008514  0.956539  2.684629  4.117929       NaN   \n",
      "7  0.424650  3.613819  1.306206  2.496042  0.588177  2.223523  3.573685   \n",
      "8  2.389029  5.151773  2.446734  1.109656  2.404716  0.948143  2.895682   \n",
      "9  0.771757  1.968161  2.019148  1.643435  2.119801  1.139288  3.224696   \n",
      "\n",
      "          7         8  \n",
      "0       NaN       NaN  \n",
      "1       NaN       NaN  \n",
      "2       NaN       NaN  \n",
      "3       NaN       NaN  \n",
      "4       NaN       NaN  \n",
      "5       NaN       NaN  \n",
      "6       NaN       NaN  \n",
      "7       NaN       NaN  \n",
      "8  2.768268       NaN  \n",
      "9  2.188927  2.689086   \n",
      "\n"
     ]
    }
   ],
   "source": [
    "#put the euclideandistances into a dataframe\n",
    "DT2 = pd.DataFrame(distancesET2)\n",
    "print(\"Table 2 Euclidean distance dataframe: \\n\", DT2, \"\\n\")"
   ]
  },
  {
   "cell_type": "code",
   "execution_count": 36,
   "metadata": {},
   "outputs": [
    {
     "name": "stdout",
     "output_type": "stream",
     "text": [
      "Table 2 Spearman's rank correlation': \n",
      " [array([], dtype=float64), array([0.9]), array([1.1, 0.3]), array([1.6, 1.7, 1.7]), array([0.7, 0.4, 0.1, 1.9]), array([1.1, 0.8, 1.5, 0.7, 1.6]), array([1.5, 1.9, 1.6, 0.1, 1.7, 1.1]), array([0.3, 1.1, 0.9, 1.6, 0.5, 1.4, 1.3]), array([1.7, 1.5, 1.4, 0.1, 1.7, 0.9, 0.2, 1.8]), array([0.5, 1.2, 1.8, 0.8, 1.6, 0.3, 1. , 0.9, 1.1])] \n",
      "\n"
     ]
    }
   ],
   "source": [
    "#Calculating spearmans rank\n",
    "distancesST2 = distancematrix(scaledT2, dist='s')\n",
    "print(\"Table 2 Spearman's rank correlation': \\n\", distancesST2, \"\\n\")"
   ]
  },
  {
   "cell_type": "code",
   "execution_count": 37,
   "metadata": {},
   "outputs": [
    {
     "name": "stdout",
     "output_type": "stream",
     "text": [
      "Table 2 Spearman’s rank correlation dataframe: \n",
      "           0         1         2         3         4         5         6  \\\n",
      "0       NaN       NaN       NaN       NaN       NaN       NaN       NaN   \n",
      "1  2.311123       NaN       NaN       NaN       NaN       NaN       NaN   \n",
      "2  1.265991  1.462495       NaN       NaN       NaN       NaN       NaN   \n",
      "3  1.970288  4.008048  1.808656       NaN       NaN       NaN       NaN   \n",
      "4  0.819534  1.979859  0.204605  1.878843       NaN       NaN       NaN   \n",
      "5  1.432666  4.205752  2.200612  1.318881  2.359780       NaN       NaN   \n",
      "6  3.183149  4.717705  3.008514  0.956539  2.684629  4.117929       NaN   \n",
      "7  0.424650  3.613819  1.306206  2.496042  0.588177  2.223523  3.573685   \n",
      "8  2.389029  5.151773  2.446734  1.109656  2.404716  0.948143  2.895682   \n",
      "9  0.771757  1.968161  2.019148  1.643435  2.119801  1.139288  3.224696   \n",
      "\n",
      "          7         8  \n",
      "0       NaN       NaN  \n",
      "1       NaN       NaN  \n",
      "2       NaN       NaN  \n",
      "3       NaN       NaN  \n",
      "4       NaN       NaN  \n",
      "5       NaN       NaN  \n",
      "6       NaN       NaN  \n",
      "7       NaN       NaN  \n",
      "8  2.768268       NaN  \n",
      "9  2.188927  2.689086   \n",
      "\n"
     ]
    }
   ],
   "source": [
    "#converting the correlation matrix into a dataframe\n",
    "ST2 = pd.DataFrame(distancesET2)\n",
    "print(\"Table 2 Spearman’s rank correlation dataframe: \\n\", ST2, \"\\n\")"
   ]
  },
  {
   "cell_type": "code",
   "execution_count": 38,
   "metadata": {},
   "outputs": [
    {
     "name": "stdout",
     "output_type": "stream",
     "text": [
      "(4, 2): 0.204605\n",
      "(7, 0): 0.42465\n",
      "(8, 5): 0.948143\n",
      "(6, 3): 0.956539\n",
      "(-1, -2): 1.30621\n",
      "(9, 1): 1.96816\n",
      "(-3, -5): 2.76827\n",
      "(-4, -7): 4.11793\n",
      "(-6, -8): 5.15177\n"
     ]
    }
   ],
   "source": [
    "#Performing hierachal cliustering on the T2 data using Euclidean distance\n",
    "from Bio.Cluster import treecluster\n",
    "T2tree = treecluster(data=scaledT2)\n",
    "print(T2tree)"
   ]
  },
  {
   "cell_type": "code",
   "execution_count": 39,
   "metadata": {},
   "outputs": [
    {
     "name": "stdout",
     "output_type": "stream",
     "text": [
      "(4, 2): 0.1\n",
      "(6, 3): 0.1\n",
      "(8, -2): 0.2\n",
      "(5, 9): 0.3\n",
      "(7, 0): 0.3\n",
      "(-1, 1): 0.4\n",
      "(-6, -5): 1.1\n",
      "(-4, -3): 1.1\n",
      "(-8, -7): 1.9\n"
     ]
    }
   ],
   "source": [
    "#Performing hierachal cliustering on the T2 data using Spearman's rank correlation \n",
    "T2tree2 = treecluster(data=scaledT2, dist='s')\n",
    "print(T2tree2)"
   ]
  },
  {
   "cell_type": "code",
   "execution_count": 40,
   "metadata": {},
   "outputs": [
    {
     "name": "stdout",
     "output_type": "stream",
     "text": [
      "(4, 2): 0.1\n",
      "(6, 3): 0.1\n",
      "(8, -2): 0.2\n",
      "(5, 9): 0.3\n",
      "(7, 0): 0.3\n",
      "(-1, 1): 0.4\n",
      "(-6, -5): 1.1\n",
      "(-4, -3): 1.1\n",
      "(-8, -7): 1.9\n"
     ]
    }
   ],
   "source": [
    "#Performing hierachal cliustering on the T2 data using Euclidean distance and Spearman's rank correlation \n",
    "T2tree3 = treecluster(data=None, distancematrix=distancesST2)\n",
    "print(T2tree3)"
   ]
  },
  {
   "cell_type": "code",
   "execution_count": null,
   "metadata": {},
   "outputs": [],
   "source": []
  }
 ],
 "metadata": {
  "kernelspec": {
   "display_name": "Python 3",
   "language": "python",
   "name": "python3"
  },
  "language_info": {
   "codemirror_mode": {
    "name": "ipython",
    "version": 3
   },
   "file_extension": ".py",
   "mimetype": "text/x-python",
   "name": "python",
   "nbconvert_exporter": "python",
   "pygments_lexer": "ipython3",
   "version": "3.8.5"
  }
 },
 "nbformat": 4,
 "nbformat_minor": 4
}
